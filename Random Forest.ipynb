{
 "cells": [
  {
   "cell_type": "markdown",
   "metadata": {
    "id": "fsLtEIKyPngU"
   },
   "source": [
    "# 1.Setup"
   ]
  },
  {
   "cell_type": "code",
   "execution_count": 323,
   "metadata": {
    "id": "8Kby5uW3Affv"
   },
   "outputs": [],
   "source": [
    "import pandas as pd\n",
    "import seaborn as sns\n",
    "import matplotlib.pyplot as plt\n",
    "import time # Untuk mengukur waktu GridSearchCV\n",
    "\n",
    "from scipy.sparse import hstack\n",
    "from sklearn.model_selection import train_test_split, GridSearchCV\n",
    "from sklearn.feature_extraction.text import TfidfVectorizer\n",
    "from sklearn.ensemble import RandomForestClassifier\n",
    "from sklearn.pipeline import Pipeline, FeatureUnion\n",
    "from sklearn.preprocessing import FunctionTransformer\n",
    "from sklearn.metrics import classification_report, confusion_matrix, accuracy_score"
   ]
  },
  {
   "cell_type": "markdown",
   "metadata": {},
   "source": [
    "## 1.1 Create Helper Functions"
   ]
  },
  {
   "cell_type": "code",
   "execution_count": null,
   "metadata": {},
   "outputs": [],
   "source": [
    "def create_question_feature(text_series):\n",
    "    \"\"\"\n",
    "    Membuat fitur biner yang menandakan apakah sebuah teks mengandung tanda tanya '?'.\n",
    "    Menggunakan metode .str.contains() yang lebih efisien.\n",
    "    \"\"\"\n",
    "    if not isinstance(text_series, pd.Series):\n",
    "        text_series = pd.Series(text_series)\n",
    "    # regex=False memastikan pencarian literal untuk '?'\n",
    "    return text_series.str.contains(r'\\?', regex=True).astype(int).values.reshape(-1, 1)\n",
    "\n",
    "def plot_confusion_matrix(y_true, y_pred, classes, title='Confusion Matrix'):\n",
    "    \"\"\"\n",
    "    Membuat dan menampilkan plot confusion matrix.\n",
    "    \"\"\"\n",
    "    cm = confusion_matrix(y_true, y_pred)\n",
    "    plt.figure(figsize=(8, 6))\n",
    "    # Mendapatkan label nama sentimen\n",
    "    target_names = [key for key, val in sorted(sentiment_label_to_int.items(), key=lambda item: item[1])]\n",
    "\n",
    "    sns.heatmap(cm, annot=True, fmt='d', cmap='Blues', \n",
    "                xticklabels=target_names, yticklabels=target_names)\n",
    "    plt.xlabel('Predicted Label')\n",
    "    plt.ylabel('True Label')\n",
    "    plt.title(title)\n",
    "    plt.show()"
   ]
  },
  {
   "cell_type": "markdown",
   "metadata": {
    "id": "HmhGqw30Pnge"
   },
   "source": [
    "# 2.Load Dataset"
   ]
  },
  {
   "cell_type": "code",
   "execution_count": null,
   "metadata": {
    "id": "CKzmlZjTlt57"
   },
   "outputs": [
    {
     "name": "stdout",
     "output_type": "stream",
     "text": [
      "Dataset berhasil dimuat\n",
      "Jumlah data: 1815 baris\n"
     ]
    }
   ],
   "source": [
    "FILE_PATH = \"tweet_bersih.csv\"\n",
    "TEST_SIZE = 0.2\n",
    "RANDOM_STATE = 16\n",
    "\n",
    "try:\n",
    "    df = pd.read_csv(FILE_PATH)\n",
    "    print('Dataset berhasil dimuat')\n",
    "    print(f'Jumlah data: {len(df)} baris')\n",
    "except FileNotFoundError:\n",
    "    print(f\"Error: File tidak ditemukan di '{FILE_PATH}'. Pastikan path sudah benar\")\n",
    "    exit()"
   ]
  },
  {
   "cell_type": "markdown",
   "metadata": {
    "id": "YBe1PMJ8Pngk"
   },
   "source": [
    "# 3.Preparing Data"
   ]
  },
  {
   "cell_type": "code",
   "execution_count": 326,
   "metadata": {
    "id": "YNUBk9F_Pngl"
   },
   "outputs": [
    {
     "name": "stdout",
     "output_type": "stream",
     "text": [
      "Ukuran data latih: 1452 baris\n",
      "Ukuran data uji: 363 baris\n"
     ]
    }
   ],
   "source": [
    "X_text = df['tweet_bersih'].fillna('') # Mengisi NaN dengan string kosong\n",
    "y_labels = df['sentimen']\n",
    "sentiment_label_to_int = {'negatif': 0, 'netral': 1, 'positif': 2}\n",
    "y = y_labels.map(sentiment_label_to_int)\n",
    "\n",
    "X_text_train, X_text_test, y_train, y_test = train_test_split(\n",
    "    X_text, y, \n",
    "    test_size=TEST_SIZE, \n",
    "    random_state=RANDOM_STATE, \n",
    "    stratify=y\n",
    ")\n",
    "print(f'Ukuran data latih: {len(X_text_train)} baris')\n",
    "print(f'Ukuran data uji: {len(X_text_test)} baris')"
   ]
  },
  {
   "cell_type": "markdown",
   "metadata": {},
   "source": [
    "# 4. Create and Train the Model using Pipeline & GridSearchCV"
   ]
  },
  {
   "cell_type": "code",
   "execution_count": null,
   "metadata": {},
   "outputs": [
    {
     "name": "stdout",
     "output_type": "stream",
     "text": [
      "\n",
      "--- Menggunakan scikit-learn Pipeline & GridSearchCV ---\n",
      "Memulai Hyperparameter Tuning dengan GridSearchCV (Pipeline)...\n",
      "Fitting 3 folds for each of 480 candidates, totalling 1440 fits\n",
      "GridSearchCV selesai dalam 106.45 detik.\n"
     ]
    }
   ],
   "source": [
    "print(\"\\n--- Menggunakan scikit-learn Pipeline & GridSearchCV ---\")\n",
    "\n",
    "# Mendefinisikan pipeline untuk ekstraksi fitur gabungan\n",
    "feature_extraction = FeatureUnion([\n",
    "    ('tfidf', TfidfVectorizer(max_features=800, min_df=5, ngram_range=(1, 3))),\n",
    "    # FunctionTransformer digunakan untuk mengaplikasikan fungsi Python kustom (create_question_feature)\n",
    "    ('question_feature', FunctionTransformer(create_question_feature, validate=False))\n",
    "])\n",
    "\n",
    "# Buat pipeline utama yang menggabungkan ekstraksi fitur dan classifier\n",
    "model_pipeline = Pipeline([\n",
    "    ('features', feature_extraction),\n",
    "    ('classifier', RandomForestClassifier(random_state=RANDOM_STATE))\n",
    "])\n",
    "\n",
    "# Mendefinisikan grid parameter yang ingin diuji untuk langkah 'classifier' di Pipeline\n",
    "param_grid = {\n",
    "    # Perhatikan format penamaan: 'nama_step__nama_parameter'\n",
    "    'classifier__n_estimators': [50, 100, 200, 300],\n",
    "    'classifier__max_depth': [5, 10, 20, 30, 50, None],\n",
    "    'classifier__min_samples_split': [2, 5, 10, 20, 30],\n",
    "    'classifier__min_samples_leaf': [1, 2, 5, 10]\n",
    "}\n",
    "\n",
    "# Buat objek GridSearchCV\n",
    "grid_search = GridSearchCV(\n",
    "    estimator=model_pipeline, # Menggunakan Pipeline sebagai estimator\n",
    "    param_grid=param_grid,\n",
    "    cv=3, \n",
    "    n_jobs=-1, \n",
    "    verbose=2, \n",
    "    scoring='accuracy'\n",
    ")\n",
    "\n",
    "print(\"Memulai Hyperparameter Tuning dengan GridSearchCV (Pipeline)...\")\n",
    "start_time = time.time()\n",
    "\n",
    "# Latih GridSearchCV pada data training mentah (X_text_train)\n",
    "grid_search.fit(X_text_train, y_train)\n",
    "\n",
    "end_time = time.time()\n",
    "print(f\"GridSearchCV selesai dalam {(end_time - start_time):.2f} detik.\")\n",
    "\n",
    "# Dapatkan model terbaik yang sudah dilatih (Pipeline lengkap)\n",
    "best_rf_model = grid_search.best_estimator_"
   ]
  },
  {
   "cell_type": "markdown",
   "metadata": {},
   "source": [
    "# 5. Prediction and Evaluate the Model"
   ]
  },
  {
   "cell_type": "code",
   "execution_count": 328,
   "metadata": {},
   "outputs": [
    {
     "name": "stdout",
     "output_type": "stream",
     "text": [
      "\n",
      "Parameter terbaik yang ditemukan (Model Terbaik):\n",
      "{'classifier__max_depth': 30, 'classifier__min_samples_leaf': 1, 'classifier__min_samples_split': 20, 'classifier__n_estimators': 300}\n",
      "\n",
      "--- Hasil Evaluasi Model Random Forest Terbaik (via Pipeline) ---\n",
      "Akurasi Data Latih : 0.8285\n",
      "Akurasi Data Uji   : 0.6061\n",
      "\n",
      "Laporan Klasifikasi Data Uji:\n",
      "              precision    recall  f1-score   support\n",
      "\n",
      "     negatif       0.63      0.62      0.63       119\n",
      "      netral       0.59      0.68      0.63       121\n",
      "     positif       0.59      0.52      0.55       123\n",
      "\n",
      "    accuracy                           0.61       363\n",
      "   macro avg       0.61      0.61      0.60       363\n",
      "weighted avg       0.61      0.61      0.60       363\n",
      "\n"
     ]
    },
    {
     "data": {
      "image/png": "[encoded data removed]",
      "text/plain": [
       "<Figure size 800x600 with 2 Axes>"
      ]
     },
     "metadata": {},
     "output_type": "display_data"
    }
   ],
   "source": [
    "y_pred_test = best_rf_model.predict(X_text_test)\n",
    "y_pred_train = best_rf_model.predict(X_text_train)\n",
    "\n",
    "# Tampilkan parameter terbaik\n",
    "print(\"\\nParameter terbaik yang ditemukan (Model Terbaik):\")\n",
    "print(grid_search.best_params_)\n",
    "\n",
    "# Menampilkan hasil evaluasi\n",
    "print(\"\\n--- Hasil Evaluasi Model Random Forest Terbaik (via Pipeline) ---\")\n",
    "print(f\"Akurasi Data Latih : {accuracy_score(y_train, y_pred_train):.4f}\")\n",
    "print(f\"Akurasi Data Uji   : {accuracy_score(y_test, y_pred_test):.4f}\")\n",
    "\n",
    "target_names = [key for key, val in sorted(sentiment_label_to_int.items(), key=lambda item: item[1])]\n",
    "print(\"\\nLaporan Klasifikasi Data Uji:\")\n",
    "print(classification_report(y_test, y_pred_test, target_names=target_names))\n",
    "\n",
    "plot_confusion_matrix(y_test, y_pred_test, classes=target_names, title='Confusion Matrix - Best Random Forest Pipeline (Data Uji)')"
   ]
  }
 ],
 "metadata": {
  "colab": {
   "provenance": []
  },
  "kernelspec": {
   "display_name": "base",
   "language": "python",
   "name": "python3"
  },
  "language_info": {
   "codemirror_mode": {
    "name": "ipython",
    "version": 3
   },
   "file_extension": ".py",
   "mimetype": "text/x-python",
   "name": "python",
   "nbconvert_exporter": "python",
   "pygments_lexer": "ipython3",
   "version": "3.13.5"
  }
 },
 "nbformat": 4,
 "nbformat_minor": 0
}
